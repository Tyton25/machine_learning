{
  "nbformat": 4,
  "nbformat_minor": 0,
  "metadata": {
    "colab": {
      "provenance": [],
      "authorship_tag": "ABX9TyOwtEuFtAcFBThBnvggA2Av",
      "include_colab_link": true
    },
    "kernelspec": {
      "name": "python3",
      "display_name": "Python 3"
    },
    "language_info": {
      "name": "python"
    }
  },
  "cells": [
    {
      "cell_type": "markdown",
      "metadata": {
        "id": "view-in-github",
        "colab_type": "text"
      },
      "source": [
        "<a href=\"https://colab.research.google.com/github/Tyton25/machine_learning/blob/master/sterlings_neural_net.ipynb\" target=\"_parent\"><img src=\"https://colab.research.google.com/assets/colab-badge.svg\" alt=\"Open In Colab\"/></a>"
      ]
    },
    {
      "cell_type": "code",
      "execution_count": 50,
      "metadata": {
        "id": "qnsJx2lzXwlG"
      },
      "outputs": [],
      "source": [
        "import tensorflow as tf\n",
        "import numpy as np\n",
        "import matplotlib.pyplot as plt"
      ]
    },
    {
      "cell_type": "code",
      "source": [
        "# X = tf.constant([-7.0, -4.0, -1.0, 2.0, 5.0, 8.0, 11.0, 14.0, 17.0, 20.0, 23.0, 26.0, 29.0])\n",
        "# y = tf.constant([3.0, 6.0, 9.0, 12.0, 15.0, 18.0, 21.0, 24.0, 27.0, 30.0, 33.0, 36.0, 39.0])\n",
        "# y = tf.range(3, 40, 3, dtype=tf.float32)\n",
        "X = tf.range(-100, 2000, 3, dtype=tf.float32)\n",
        "y = X + 10\n",
        "X, y"
      ],
      "metadata": {
        "colab": {
          "base_uri": "https://localhost:8080/"
        },
        "id": "eORhKDM1hp5v",
        "outputId": "90f11e6f-8431-490e-9396-99559d9a7092"
      },
      "execution_count": 182,
      "outputs": [
        {
          "output_type": "execute_result",
          "data": {
            "text/plain": [
              "(<tf.Tensor: shape=(700,), dtype=float32, numpy=\n",
              " array([-1.000e+02, -9.700e+01, -9.400e+01, -9.100e+01, -8.800e+01,\n",
              "        -8.500e+01, -8.200e+01, -7.900e+01, -7.600e+01, -7.300e+01,\n",
              "        -7.000e+01, -6.700e+01, -6.400e+01, -6.100e+01, -5.800e+01,\n",
              "        -5.500e+01, -5.200e+01, -4.900e+01, -4.600e+01, -4.300e+01,\n",
              "        -4.000e+01, -3.700e+01, -3.400e+01, -3.100e+01, -2.800e+01,\n",
              "        -2.500e+01, -2.200e+01, -1.900e+01, -1.600e+01, -1.300e+01,\n",
              "        -1.000e+01, -7.000e+00, -4.000e+00, -1.000e+00,  2.000e+00,\n",
              "         5.000e+00,  8.000e+00,  1.100e+01,  1.400e+01,  1.700e+01,\n",
              "         2.000e+01,  2.300e+01,  2.600e+01,  2.900e+01,  3.200e+01,\n",
              "         3.500e+01,  3.800e+01,  4.100e+01,  4.400e+01,  4.700e+01,\n",
              "         5.000e+01,  5.300e+01,  5.600e+01,  5.900e+01,  6.200e+01,\n",
              "         6.500e+01,  6.800e+01,  7.100e+01,  7.400e+01,  7.700e+01,\n",
              "         8.000e+01,  8.300e+01,  8.600e+01,  8.900e+01,  9.200e+01,\n",
              "         9.500e+01,  9.800e+01,  1.010e+02,  1.040e+02,  1.070e+02,\n",
              "         1.100e+02,  1.130e+02,  1.160e+02,  1.190e+02,  1.220e+02,\n",
              "         1.250e+02,  1.280e+02,  1.310e+02,  1.340e+02,  1.370e+02,\n",
              "         1.400e+02,  1.430e+02,  1.460e+02,  1.490e+02,  1.520e+02,\n",
              "         1.550e+02,  1.580e+02,  1.610e+02,  1.640e+02,  1.670e+02,\n",
              "         1.700e+02,  1.730e+02,  1.760e+02,  1.790e+02,  1.820e+02,\n",
              "         1.850e+02,  1.880e+02,  1.910e+02,  1.940e+02,  1.970e+02,\n",
              "         2.000e+02,  2.030e+02,  2.060e+02,  2.090e+02,  2.120e+02,\n",
              "         2.150e+02,  2.180e+02,  2.210e+02,  2.240e+02,  2.270e+02,\n",
              "         2.300e+02,  2.330e+02,  2.360e+02,  2.390e+02,  2.420e+02,\n",
              "         2.450e+02,  2.480e+02,  2.510e+02,  2.540e+02,  2.570e+02,\n",
              "         2.600e+02,  2.630e+02,  2.660e+02,  2.690e+02,  2.720e+02,\n",
              "         2.750e+02,  2.780e+02,  2.810e+02,  2.840e+02,  2.870e+02,\n",
              "         2.900e+02,  2.930e+02,  2.960e+02,  2.990e+02,  3.020e+02,\n",
              "         3.050e+02,  3.080e+02,  3.110e+02,  3.140e+02,  3.170e+02,\n",
              "         3.200e+02,  3.230e+02,  3.260e+02,  3.290e+02,  3.320e+02,\n",
              "         3.350e+02,  3.380e+02,  3.410e+02,  3.440e+02,  3.470e+02,\n",
              "         3.500e+02,  3.530e+02,  3.560e+02,  3.590e+02,  3.620e+02,\n",
              "         3.650e+02,  3.680e+02,  3.710e+02,  3.740e+02,  3.770e+02,\n",
              "         3.800e+02,  3.830e+02,  3.860e+02,  3.890e+02,  3.920e+02,\n",
              "         3.950e+02,  3.980e+02,  4.010e+02,  4.040e+02,  4.070e+02,\n",
              "         4.100e+02,  4.130e+02,  4.160e+02,  4.190e+02,  4.220e+02,\n",
              "         4.250e+02,  4.280e+02,  4.310e+02,  4.340e+02,  4.370e+02,\n",
              "         4.400e+02,  4.430e+02,  4.460e+02,  4.490e+02,  4.520e+02,\n",
              "         4.550e+02,  4.580e+02,  4.610e+02,  4.640e+02,  4.670e+02,\n",
              "         4.700e+02,  4.730e+02,  4.760e+02,  4.790e+02,  4.820e+02,\n",
              "         4.850e+02,  4.880e+02,  4.910e+02,  4.940e+02,  4.970e+02,\n",
              "         5.000e+02,  5.030e+02,  5.060e+02,  5.090e+02,  5.120e+02,\n",
              "         5.150e+02,  5.180e+02,  5.210e+02,  5.240e+02,  5.270e+02,\n",
              "         5.300e+02,  5.330e+02,  5.360e+02,  5.390e+02,  5.420e+02,\n",
              "         5.450e+02,  5.480e+02,  5.510e+02,  5.540e+02,  5.570e+02,\n",
              "         5.600e+02,  5.630e+02,  5.660e+02,  5.690e+02,  5.720e+02,\n",
              "         5.750e+02,  5.780e+02,  5.810e+02,  5.840e+02,  5.870e+02,\n",
              "         5.900e+02,  5.930e+02,  5.960e+02,  5.990e+02,  6.020e+02,\n",
              "         6.050e+02,  6.080e+02,  6.110e+02,  6.140e+02,  6.170e+02,\n",
              "         6.200e+02,  6.230e+02,  6.260e+02,  6.290e+02,  6.320e+02,\n",
              "         6.350e+02,  6.380e+02,  6.410e+02,  6.440e+02,  6.470e+02,\n",
              "         6.500e+02,  6.530e+02,  6.560e+02,  6.590e+02,  6.620e+02,\n",
              "         6.650e+02,  6.680e+02,  6.710e+02,  6.740e+02,  6.770e+02,\n",
              "         6.800e+02,  6.830e+02,  6.860e+02,  6.890e+02,  6.920e+02,\n",
              "         6.950e+02,  6.980e+02,  7.010e+02,  7.040e+02,  7.070e+02,\n",
              "         7.100e+02,  7.130e+02,  7.160e+02,  7.190e+02,  7.220e+02,\n",
              "         7.250e+02,  7.280e+02,  7.310e+02,  7.340e+02,  7.370e+02,\n",
              "         7.400e+02,  7.430e+02,  7.460e+02,  7.490e+02,  7.520e+02,\n",
              "         7.550e+02,  7.580e+02,  7.610e+02,  7.640e+02,  7.670e+02,\n",
              "         7.700e+02,  7.730e+02,  7.760e+02,  7.790e+02,  7.820e+02,\n",
              "         7.850e+02,  7.880e+02,  7.910e+02,  7.940e+02,  7.970e+02,\n",
              "         8.000e+02,  8.030e+02,  8.060e+02,  8.090e+02,  8.120e+02,\n",
              "         8.150e+02,  8.180e+02,  8.210e+02,  8.240e+02,  8.270e+02,\n",
              "         8.300e+02,  8.330e+02,  8.360e+02,  8.390e+02,  8.420e+02,\n",
              "         8.450e+02,  8.480e+02,  8.510e+02,  8.540e+02,  8.570e+02,\n",
              "         8.600e+02,  8.630e+02,  8.660e+02,  8.690e+02,  8.720e+02,\n",
              "         8.750e+02,  8.780e+02,  8.810e+02,  8.840e+02,  8.870e+02,\n",
              "         8.900e+02,  8.930e+02,  8.960e+02,  8.990e+02,  9.020e+02,\n",
              "         9.050e+02,  9.080e+02,  9.110e+02,  9.140e+02,  9.170e+02,\n",
              "         9.200e+02,  9.230e+02,  9.260e+02,  9.290e+02,  9.320e+02,\n",
              "         9.350e+02,  9.380e+02,  9.410e+02,  9.440e+02,  9.470e+02,\n",
              "         9.500e+02,  9.530e+02,  9.560e+02,  9.590e+02,  9.620e+02,\n",
              "         9.650e+02,  9.680e+02,  9.710e+02,  9.740e+02,  9.770e+02,\n",
              "         9.800e+02,  9.830e+02,  9.860e+02,  9.890e+02,  9.920e+02,\n",
              "         9.950e+02,  9.980e+02,  1.001e+03,  1.004e+03,  1.007e+03,\n",
              "         1.010e+03,  1.013e+03,  1.016e+03,  1.019e+03,  1.022e+03,\n",
              "         1.025e+03,  1.028e+03,  1.031e+03,  1.034e+03,  1.037e+03,\n",
              "         1.040e+03,  1.043e+03,  1.046e+03,  1.049e+03,  1.052e+03,\n",
              "         1.055e+03,  1.058e+03,  1.061e+03,  1.064e+03,  1.067e+03,\n",
              "         1.070e+03,  1.073e+03,  1.076e+03,  1.079e+03,  1.082e+03,\n",
              "         1.085e+03,  1.088e+03,  1.091e+03,  1.094e+03,  1.097e+03,\n",
              "         1.100e+03,  1.103e+03,  1.106e+03,  1.109e+03,  1.112e+03,\n",
              "         1.115e+03,  1.118e+03,  1.121e+03,  1.124e+03,  1.127e+03,\n",
              "         1.130e+03,  1.133e+03,  1.136e+03,  1.139e+03,  1.142e+03,\n",
              "         1.145e+03,  1.148e+03,  1.151e+03,  1.154e+03,  1.157e+03,\n",
              "         1.160e+03,  1.163e+03,  1.166e+03,  1.169e+03,  1.172e+03,\n",
              "         1.175e+03,  1.178e+03,  1.181e+03,  1.184e+03,  1.187e+03,\n",
              "         1.190e+03,  1.193e+03,  1.196e+03,  1.199e+03,  1.202e+03,\n",
              "         1.205e+03,  1.208e+03,  1.211e+03,  1.214e+03,  1.217e+03,\n",
              "         1.220e+03,  1.223e+03,  1.226e+03,  1.229e+03,  1.232e+03,\n",
              "         1.235e+03,  1.238e+03,  1.241e+03,  1.244e+03,  1.247e+03,\n",
              "         1.250e+03,  1.253e+03,  1.256e+03,  1.259e+03,  1.262e+03,\n",
              "         1.265e+03,  1.268e+03,  1.271e+03,  1.274e+03,  1.277e+03,\n",
              "         1.280e+03,  1.283e+03,  1.286e+03,  1.289e+03,  1.292e+03,\n",
              "         1.295e+03,  1.298e+03,  1.301e+03,  1.304e+03,  1.307e+03,\n",
              "         1.310e+03,  1.313e+03,  1.316e+03,  1.319e+03,  1.322e+03,\n",
              "         1.325e+03,  1.328e+03,  1.331e+03,  1.334e+03,  1.337e+03,\n",
              "         1.340e+03,  1.343e+03,  1.346e+03,  1.349e+03,  1.352e+03,\n",
              "         1.355e+03,  1.358e+03,  1.361e+03,  1.364e+03,  1.367e+03,\n",
              "         1.370e+03,  1.373e+03,  1.376e+03,  1.379e+03,  1.382e+03,\n",
              "         1.385e+03,  1.388e+03,  1.391e+03,  1.394e+03,  1.397e+03,\n",
              "         1.400e+03,  1.403e+03,  1.406e+03,  1.409e+03,  1.412e+03,\n",
              "         1.415e+03,  1.418e+03,  1.421e+03,  1.424e+03,  1.427e+03,\n",
              "         1.430e+03,  1.433e+03,  1.436e+03,  1.439e+03,  1.442e+03,\n",
              "         1.445e+03,  1.448e+03,  1.451e+03,  1.454e+03,  1.457e+03,\n",
              "         1.460e+03,  1.463e+03,  1.466e+03,  1.469e+03,  1.472e+03,\n",
              "         1.475e+03,  1.478e+03,  1.481e+03,  1.484e+03,  1.487e+03,\n",
              "         1.490e+03,  1.493e+03,  1.496e+03,  1.499e+03,  1.502e+03,\n",
              "         1.505e+03,  1.508e+03,  1.511e+03,  1.514e+03,  1.517e+03,\n",
              "         1.520e+03,  1.523e+03,  1.526e+03,  1.529e+03,  1.532e+03,\n",
              "         1.535e+03,  1.538e+03,  1.541e+03,  1.544e+03,  1.547e+03,\n",
              "         1.550e+03,  1.553e+03,  1.556e+03,  1.559e+03,  1.562e+03,\n",
              "         1.565e+03,  1.568e+03,  1.571e+03,  1.574e+03,  1.577e+03,\n",
              "         1.580e+03,  1.583e+03,  1.586e+03,  1.589e+03,  1.592e+03,\n",
              "         1.595e+03,  1.598e+03,  1.601e+03,  1.604e+03,  1.607e+03,\n",
              "         1.610e+03,  1.613e+03,  1.616e+03,  1.619e+03,  1.622e+03,\n",
              "         1.625e+03,  1.628e+03,  1.631e+03,  1.634e+03,  1.637e+03,\n",
              "         1.640e+03,  1.643e+03,  1.646e+03,  1.649e+03,  1.652e+03,\n",
              "         1.655e+03,  1.658e+03,  1.661e+03,  1.664e+03,  1.667e+03,\n",
              "         1.670e+03,  1.673e+03,  1.676e+03,  1.679e+03,  1.682e+03,\n",
              "         1.685e+03,  1.688e+03,  1.691e+03,  1.694e+03,  1.697e+03,\n",
              "         1.700e+03,  1.703e+03,  1.706e+03,  1.709e+03,  1.712e+03,\n",
              "         1.715e+03,  1.718e+03,  1.721e+03,  1.724e+03,  1.727e+03,\n",
              "         1.730e+03,  1.733e+03,  1.736e+03,  1.739e+03,  1.742e+03,\n",
              "         1.745e+03,  1.748e+03,  1.751e+03,  1.754e+03,  1.757e+03,\n",
              "         1.760e+03,  1.763e+03,  1.766e+03,  1.769e+03,  1.772e+03,\n",
              "         1.775e+03,  1.778e+03,  1.781e+03,  1.784e+03,  1.787e+03,\n",
              "         1.790e+03,  1.793e+03,  1.796e+03,  1.799e+03,  1.802e+03,\n",
              "         1.805e+03,  1.808e+03,  1.811e+03,  1.814e+03,  1.817e+03,\n",
              "         1.820e+03,  1.823e+03,  1.826e+03,  1.829e+03,  1.832e+03,\n",
              "         1.835e+03,  1.838e+03,  1.841e+03,  1.844e+03,  1.847e+03,\n",
              "         1.850e+03,  1.853e+03,  1.856e+03,  1.859e+03,  1.862e+03,\n",
              "         1.865e+03,  1.868e+03,  1.871e+03,  1.874e+03,  1.877e+03,\n",
              "         1.880e+03,  1.883e+03,  1.886e+03,  1.889e+03,  1.892e+03,\n",
              "         1.895e+03,  1.898e+03,  1.901e+03,  1.904e+03,  1.907e+03,\n",
              "         1.910e+03,  1.913e+03,  1.916e+03,  1.919e+03,  1.922e+03,\n",
              "         1.925e+03,  1.928e+03,  1.931e+03,  1.934e+03,  1.937e+03,\n",
              "         1.940e+03,  1.943e+03,  1.946e+03,  1.949e+03,  1.952e+03,\n",
              "         1.955e+03,  1.958e+03,  1.961e+03,  1.964e+03,  1.967e+03,\n",
              "         1.970e+03,  1.973e+03,  1.976e+03,  1.979e+03,  1.982e+03,\n",
              "         1.985e+03,  1.988e+03,  1.991e+03,  1.994e+03,  1.997e+03],\n",
              "       dtype=float32)>,\n",
              " <tf.Tensor: shape=(700,), dtype=float32, numpy=\n",
              " array([ -90.,  -87.,  -84.,  -81.,  -78.,  -75.,  -72.,  -69.,  -66.,\n",
              "         -63.,  -60.,  -57.,  -54.,  -51.,  -48.,  -45.,  -42.,  -39.,\n",
              "         -36.,  -33.,  -30.,  -27.,  -24.,  -21.,  -18.,  -15.,  -12.,\n",
              "          -9.,   -6.,   -3.,    0.,    3.,    6.,    9.,   12.,   15.,\n",
              "          18.,   21.,   24.,   27.,   30.,   33.,   36.,   39.,   42.,\n",
              "          45.,   48.,   51.,   54.,   57.,   60.,   63.,   66.,   69.,\n",
              "          72.,   75.,   78.,   81.,   84.,   87.,   90.,   93.,   96.,\n",
              "          99.,  102.,  105.,  108.,  111.,  114.,  117.,  120.,  123.,\n",
              "         126.,  129.,  132.,  135.,  138.,  141.,  144.,  147.,  150.,\n",
              "         153.,  156.,  159.,  162.,  165.,  168.,  171.,  174.,  177.,\n",
              "         180.,  183.,  186.,  189.,  192.,  195.,  198.,  201.,  204.,\n",
              "         207.,  210.,  213.,  216.,  219.,  222.,  225.,  228.,  231.,\n",
              "         234.,  237.,  240.,  243.,  246.,  249.,  252.,  255.,  258.,\n",
              "         261.,  264.,  267.,  270.,  273.,  276.,  279.,  282.,  285.,\n",
              "         288.,  291.,  294.,  297.,  300.,  303.,  306.,  309.,  312.,\n",
              "         315.,  318.,  321.,  324.,  327.,  330.,  333.,  336.,  339.,\n",
              "         342.,  345.,  348.,  351.,  354.,  357.,  360.,  363.,  366.,\n",
              "         369.,  372.,  375.,  378.,  381.,  384.,  387.,  390.,  393.,\n",
              "         396.,  399.,  402.,  405.,  408.,  411.,  414.,  417.,  420.,\n",
              "         423.,  426.,  429.,  432.,  435.,  438.,  441.,  444.,  447.,\n",
              "         450.,  453.,  456.,  459.,  462.,  465.,  468.,  471.,  474.,\n",
              "         477.,  480.,  483.,  486.,  489.,  492.,  495.,  498.,  501.,\n",
              "         504.,  507.,  510.,  513.,  516.,  519.,  522.,  525.,  528.,\n",
              "         531.,  534.,  537.,  540.,  543.,  546.,  549.,  552.,  555.,\n",
              "         558.,  561.,  564.,  567.,  570.,  573.,  576.,  579.,  582.,\n",
              "         585.,  588.,  591.,  594.,  597.,  600.,  603.,  606.,  609.,\n",
              "         612.,  615.,  618.,  621.,  624.,  627.,  630.,  633.,  636.,\n",
              "         639.,  642.,  645.,  648.,  651.,  654.,  657.,  660.,  663.,\n",
              "         666.,  669.,  672.,  675.,  678.,  681.,  684.,  687.,  690.,\n",
              "         693.,  696.,  699.,  702.,  705.,  708.,  711.,  714.,  717.,\n",
              "         720.,  723.,  726.,  729.,  732.,  735.,  738.,  741.,  744.,\n",
              "         747.,  750.,  753.,  756.,  759.,  762.,  765.,  768.,  771.,\n",
              "         774.,  777.,  780.,  783.,  786.,  789.,  792.,  795.,  798.,\n",
              "         801.,  804.,  807.,  810.,  813.,  816.,  819.,  822.,  825.,\n",
              "         828.,  831.,  834.,  837.,  840.,  843.,  846.,  849.,  852.,\n",
              "         855.,  858.,  861.,  864.,  867.,  870.,  873.,  876.,  879.,\n",
              "         882.,  885.,  888.,  891.,  894.,  897.,  900.,  903.,  906.,\n",
              "         909.,  912.,  915.,  918.,  921.,  924.,  927.,  930.,  933.,\n",
              "         936.,  939.,  942.,  945.,  948.,  951.,  954.,  957.,  960.,\n",
              "         963.,  966.,  969.,  972.,  975.,  978.,  981.,  984.,  987.,\n",
              "         990.,  993.,  996.,  999., 1002., 1005., 1008., 1011., 1014.,\n",
              "        1017., 1020., 1023., 1026., 1029., 1032., 1035., 1038., 1041.,\n",
              "        1044., 1047., 1050., 1053., 1056., 1059., 1062., 1065., 1068.,\n",
              "        1071., 1074., 1077., 1080., 1083., 1086., 1089., 1092., 1095.,\n",
              "        1098., 1101., 1104., 1107., 1110., 1113., 1116., 1119., 1122.,\n",
              "        1125., 1128., 1131., 1134., 1137., 1140., 1143., 1146., 1149.,\n",
              "        1152., 1155., 1158., 1161., 1164., 1167., 1170., 1173., 1176.,\n",
              "        1179., 1182., 1185., 1188., 1191., 1194., 1197., 1200., 1203.,\n",
              "        1206., 1209., 1212., 1215., 1218., 1221., 1224., 1227., 1230.,\n",
              "        1233., 1236., 1239., 1242., 1245., 1248., 1251., 1254., 1257.,\n",
              "        1260., 1263., 1266., 1269., 1272., 1275., 1278., 1281., 1284.,\n",
              "        1287., 1290., 1293., 1296., 1299., 1302., 1305., 1308., 1311.,\n",
              "        1314., 1317., 1320., 1323., 1326., 1329., 1332., 1335., 1338.,\n",
              "        1341., 1344., 1347., 1350., 1353., 1356., 1359., 1362., 1365.,\n",
              "        1368., 1371., 1374., 1377., 1380., 1383., 1386., 1389., 1392.,\n",
              "        1395., 1398., 1401., 1404., 1407., 1410., 1413., 1416., 1419.,\n",
              "        1422., 1425., 1428., 1431., 1434., 1437., 1440., 1443., 1446.,\n",
              "        1449., 1452., 1455., 1458., 1461., 1464., 1467., 1470., 1473.,\n",
              "        1476., 1479., 1482., 1485., 1488., 1491., 1494., 1497., 1500.,\n",
              "        1503., 1506., 1509., 1512., 1515., 1518., 1521., 1524., 1527.,\n",
              "        1530., 1533., 1536., 1539., 1542., 1545., 1548., 1551., 1554.,\n",
              "        1557., 1560., 1563., 1566., 1569., 1572., 1575., 1578., 1581.,\n",
              "        1584., 1587., 1590., 1593., 1596., 1599., 1602., 1605., 1608.,\n",
              "        1611., 1614., 1617., 1620., 1623., 1626., 1629., 1632., 1635.,\n",
              "        1638., 1641., 1644., 1647., 1650., 1653., 1656., 1659., 1662.,\n",
              "        1665., 1668., 1671., 1674., 1677., 1680., 1683., 1686., 1689.,\n",
              "        1692., 1695., 1698., 1701., 1704., 1707., 1710., 1713., 1716.,\n",
              "        1719., 1722., 1725., 1728., 1731., 1734., 1737., 1740., 1743.,\n",
              "        1746., 1749., 1752., 1755., 1758., 1761., 1764., 1767., 1770.,\n",
              "        1773., 1776., 1779., 1782., 1785., 1788., 1791., 1794., 1797.,\n",
              "        1800., 1803., 1806., 1809., 1812., 1815., 1818., 1821., 1824.,\n",
              "        1827., 1830., 1833., 1836., 1839., 1842., 1845., 1848., 1851.,\n",
              "        1854., 1857., 1860., 1863., 1866., 1869., 1872., 1875., 1878.,\n",
              "        1881., 1884., 1887., 1890., 1893., 1896., 1899., 1902., 1905.,\n",
              "        1908., 1911., 1914., 1917., 1920., 1923., 1926., 1929., 1932.,\n",
              "        1935., 1938., 1941., 1944., 1947., 1950., 1953., 1956., 1959.,\n",
              "        1962., 1965., 1968., 1971., 1974., 1977., 1980., 1983., 1986.,\n",
              "        1989., 1992., 1995., 1998., 2001., 2004., 2007.], dtype=float32)>)"
            ]
          },
          "metadata": {},
          "execution_count": 182
        }
      ]
    },
    {
      "cell_type": "code",
      "source": [
        "plt.scatter(X,y)"
      ],
      "metadata": {
        "colab": {
          "base_uri": "https://localhost:8080/",
          "height": 448
        },
        "id": "VRNCyBGXgipS",
        "outputId": "8a932f64-60b7-4c39-8b6e-a2fb6bd9949e"
      },
      "execution_count": 145,
      "outputs": [
        {
          "output_type": "execute_result",
          "data": {
            "text/plain": [
              "<matplotlib.collections.PathCollection at 0x7a44bab750f0>"
            ]
          },
          "metadata": {},
          "execution_count": 145
        },
        {
          "output_type": "display_data",
          "data": {
            "text/plain": [
              "<Figure size 640x480 with 1 Axes>"
            ],
            "image/png": "[encoded data removed]"
          },
          "metadata": {}
        }
      ]
    },
    {
      "cell_type": "code",
      "source": [
        "tf.random.set_seed(42)\n",
        "\n",
        "model = tf.keras.Sequential([\n",
        "    tf.keras.layers.Dense(100, activation=None),\n",
        "    tf.keras.layers.Dense(100, activation=None),\n",
        "    tf.keras.layers.Dense(100, activation=None),\n",
        "    tf.keras.layers.Dense(100, activation=None),\n",
        "    tf.keras.layers.Dense(1)\n",
        "])\n",
        "\n",
        "model.compile(loss=\"mae\",\n",
        "              optimizer=tf.keras.optimizers.Adam(lr=0.01),\n",
        "              metrics=[\"mae\"])\n",
        "\n",
        "model.fit(tf.expand_dims(X, axis=-1), y, epochs=200, verbose=0)"
      ],
      "metadata": {
        "colab": {
          "base_uri": "https://localhost:8080/"
        },
        "id": "V4Y_hsQNX8TP",
        "outputId": "c7ea5140-70f8-4a90-b338-142d5bc27ab9"
      },
      "execution_count": 180,
      "outputs": [
        {
          "output_type": "stream",
          "name": "stderr",
          "text": [
            "WARNING:absl:`lr` is deprecated in Keras optimizer, please use `learning_rate` or use the legacy optimizer, e.g.,tf.keras.optimizers.legacy.Adam.\n"
          ]
        },
        {
          "output_type": "execute_result",
          "data": {
            "text/plain": [
              "<keras.callbacks.History at 0x7a44b928b970>"
            ]
          },
          "metadata": {},
          "execution_count": 180
        }
      ]
    },
    {
      "cell_type": "code",
      "source": [
        "model.predict([20.0])"
      ],
      "metadata": {
        "colab": {
          "base_uri": "https://localhost:8080/"
        },
        "id": "CRZF-6UffTbt",
        "outputId": "f78dccd1-b149-4f5d-977f-2c3d26444f2b"
      },
      "execution_count": 181,
      "outputs": [
        {
          "output_type": "stream",
          "name": "stdout",
          "text": [
            "1/1 [==============================] - 0s 108ms/step\n"
          ]
        },
        {
          "output_type": "execute_result",
          "data": {
            "text/plain": [
              "array([[29.428476]], dtype=float32)"
            ]
          },
          "metadata": {},
          "execution_count": 181
        }
      ]
    },
    {
      "cell_type": "code",
      "source": [
        "x_length = len(X)\n",
        "x_length"
      ],
      "metadata": {
        "colab": {
          "base_uri": "https://localhost:8080/"
        },
        "id": "ygppZQWaZB8F",
        "outputId": "4bada638-3701-4391-ef07-50930bbae6ef"
      },
      "execution_count": 166,
      "outputs": [
        {
          "output_type": "execute_result",
          "data": {
            "text/plain": [
              "700"
            ]
          },
          "metadata": {},
          "execution_count": 166
        }
      ]
    },
    {
      "cell_type": "code",
      "source": [
        "x_idx = int(x_length * 0.8)\n",
        "x_idx"
      ],
      "metadata": {
        "colab": {
          "base_uri": "https://localhost:8080/"
        },
        "id": "As8jYYb-vFX2",
        "outputId": "707a7f98-ef87-446b-df89-e6424314f173"
      },
      "execution_count": 174,
      "outputs": [
        {
          "output_type": "execute_result",
          "data": {
            "text/plain": [
              "560"
            ]
          },
          "metadata": {},
          "execution_count": 174
        }
      ]
    },
    {
      "cell_type": "code",
      "source": [
        "X_train = X[:x_idx]\n",
        "y_train = y[:x_idx]"
      ],
      "metadata": {
        "id": "yYaYQx4lu_GI"
      },
      "execution_count": 177,
      "outputs": []
    },
    {
      "cell_type": "code",
      "source": [
        "X_test = X[x_idx:]\n",
        "y_test = y[x_idx:]"
      ],
      "metadata": {
        "id": "QIra4FrsvO-8"
      },
      "execution_count": 178,
      "outputs": []
    },
    {
      "cell_type": "code",
      "source": [
        "len(X_train), len(X_test), len(y_train), len(y_test)"
      ],
      "metadata": {
        "colab": {
          "base_uri": "https://localhost:8080/"
        },
        "id": "u4cRo97Sv5q9",
        "outputId": "35fabc8f-7538-4e04-fe7a-06bb1feb55e4"
      },
      "execution_count": 179,
      "outputs": [
        {
          "output_type": "execute_result",
          "data": {
            "text/plain": [
              "(560, 140, 560, 140)"
            ]
          },
          "metadata": {},
          "execution_count": 179
        }
      ]
    },
    {
      "cell_type": "code",
      "source": [],
      "metadata": {
        "id": "yxgygO6QwifA"
      },
      "execution_count": null,
      "outputs": []
    }
  ]
}