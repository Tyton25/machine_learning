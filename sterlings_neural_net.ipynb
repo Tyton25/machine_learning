{
  "nbformat": 4,
  "nbformat_minor": 0,
  "metadata": {
    "colab": {
      "provenance": [],
      "authorship_tag": "ABX9TyOrmh2bjmkIahVVNWQDY4Ii",
      "include_colab_link": true
    },
    "kernelspec": {
      "name": "python3",
      "display_name": "Python 3"
    },
    "language_info": {
      "name": "python"
    }
  },
  "cells": [
    {
      "cell_type": "markdown",
      "metadata": {
        "id": "view-in-github",
        "colab_type": "text"
      },
      "source": [
        "<a href=\"https://colab.research.google.com/github/Tyton25/machine_learning/blob/master/sterlings_neural_net.ipynb\" target=\"_parent\"><img src=\"https://colab.research.google.com/assets/colab-badge.svg\" alt=\"Open In Colab\"/></a>"
      ]
    },
    {
      "cell_type": "code",
      "execution_count": 50,
      "metadata": {
        "id": "qnsJx2lzXwlG"
      },
      "outputs": [],
      "source": [
        "import tensorflow as tf\n",
        "import numpy as np\n",
        "import matplotlib.pyplot as plt"
      ]
    },
    {
      "cell_type": "code",
      "source": [
        "X = np.array([-7., -4., -1., 2., 5., 8., 11., 14.])\n",
        "y = np.array([3., 6., 9., 12., 15., 18., 21., 24.])"
      ],
      "metadata": {
        "id": "X6IdncEgZnwO"
      },
      "execution_count": 53,
      "outputs": []
    },
    {
      "cell_type": "code",
      "source": [
        "plt.scatter(X,y)"
      ],
      "metadata": {
        "colab": {
          "base_uri": "https://localhost:8080/",
          "height": 453
        },
        "id": "VRNCyBGXgipS",
        "outputId": "dc1f63f5-cb20-49ff-8415-1b8645a10a6f"
      },
      "execution_count": 54,
      "outputs": [
        {
          "output_type": "execute_result",
          "data": {
            "text/plain": [
              "<matplotlib.collections.PathCollection at 0x7a44c839ed70>"
            ]
          },
          "metadata": {},
          "execution_count": 54
        },
        {
          "output_type": "display_data",
          "data": {
            "text/plain": [
              "<Figure size 640x480 with 1 Axes>"
            ],
            "image/png": "[encoded data removed]"
          },
          "metadata": {}
        }
      ]
    },
    {
      "cell_type": "code",
      "source": [
        "X_train = tf.cast(tf.constant(X), dtype=tf.float32)\n",
        "y_train = tf.cast(tf.constant(y), dtype=tf.float32)\n",
        "X_train, y_train"
      ],
      "metadata": {
        "colab": {
          "base_uri": "https://localhost:8080/"
        },
        "id": "ZWp4b60vZIDN",
        "outputId": "be53a3e6-8432-4ed8-e4e7-abf39dd5c0b7"
      },
      "execution_count": 55,
      "outputs": [
        {
          "output_type": "execute_result",
          "data": {
            "text/plain": [
              "(<tf.Tensor: shape=(8,), dtype=float32, numpy=array([-7., -4., -1.,  2.,  5.,  8., 11., 14.], dtype=float32)>,\n",
              " <tf.Tensor: shape=(8,), dtype=float32, numpy=array([ 3.,  6.,  9., 12., 15., 18., 21., 24.], dtype=float32)>)"
            ]
          },
          "metadata": {},
          "execution_count": 55
        }
      ]
    },
    {
      "cell_type": "code",
      "source": [
        "X_train[0].ndim, y_train[0].ndim"
      ],
      "metadata": {
        "colab": {
          "base_uri": "https://localhost:8080/"
        },
        "id": "kr3qslS4eH19",
        "outputId": "82e83074-31e7-4a62-face-8d229d54b477"
      },
      "execution_count": 56,
      "outputs": [
        {
          "output_type": "execute_result",
          "data": {
            "text/plain": [
              "(0, 0)"
            ]
          },
          "metadata": {},
          "execution_count": 56
        }
      ]
    },
    {
      "cell_type": "code",
      "source": [
        "X = tf.constant([-7.0, -4.0, -1.0, 2.0, 5.0, 8.0, 11.0, 14.0])\n",
        "y = tf.constant([3.0, 6.0, 9.0, 12.0, 15.0, 18.0, 21.0, 24.0])"
      ],
      "metadata": {
        "id": "eORhKDM1hp5v"
      },
      "execution_count": 61,
      "outputs": []
    },
    {
      "cell_type": "code",
      "source": [
        "tf.random.set_seed(42)\n",
        "\n",
        "model = tf.keras.Sequential([\n",
        "    tf.keras.layers.Dense(100),\n",
        "    tf.keras.layers.Dense(100),\n",
        "    tf.keras.layers.Dense(100),\n",
        "    tf.keras.layers.Dense(1)\n",
        "])\n",
        "\n",
        "model.compile(loss=\"mae\",\n",
        "              optimizer=tf.keras.optimizers.Adam(lr=0.01),\n",
        "              metrics=[\"mae\"])\n",
        "\n",
        "model.fit(tf.expand_dims(X, axis=-1), y, epochs=50)"
      ],
      "metadata": {
        "colab": {
          "base_uri": "https://localhost:8080/"
        },
        "id": "V4Y_hsQNX8TP",
        "outputId": "f5496f0e-e969-4998-e3d8-be13660ca754"
      },
      "execution_count": 68,
      "outputs": [
        {
          "output_type": "stream",
          "name": "stderr",
          "text": [
            "WARNING:absl:`lr` is deprecated in Keras optimizer, please use `learning_rate` or use the legacy optimizer, e.g.,tf.keras.optimizers.legacy.Adam.\n"
          ]
        },
        {
          "output_type": "stream",
          "name": "stdout",
          "text": [
            "Epoch 1/50\n",
            "1/1 [==============================] - 1s 1s/step - loss: 13.0639 - mae: 13.0639\n",
            "Epoch 2/50\n",
            "1/1 [==============================] - 0s 14ms/step - loss: 12.0059 - mae: 12.0059\n",
            "Epoch 3/50\n",
            "1/1 [==============================] - 0s 12ms/step - loss: 10.9463 - mae: 10.9463\n",
            "Epoch 4/50\n",
            "1/1 [==============================] - 0s 14ms/step - loss: 9.8655 - mae: 9.8655\n",
            "Epoch 5/50\n",
            "1/1 [==============================] - 0s 11ms/step - loss: 8.7486 - mae: 8.7486\n",
            "Epoch 6/50\n",
            "1/1 [==============================] - 0s 11ms/step - loss: 7.5839 - mae: 7.5839\n",
            "Epoch 7/50\n",
            "1/1 [==============================] - 0s 10ms/step - loss: 7.5489 - mae: 7.5489\n",
            "Epoch 8/50\n",
            "1/1 [==============================] - 0s 15ms/step - loss: 8.1112 - mae: 8.1112\n",
            "Epoch 9/50\n",
            "1/1 [==============================] - 0s 12ms/step - loss: 8.5631 - mae: 8.5631\n",
            "Epoch 10/50\n",
            "1/1 [==============================] - 0s 13ms/step - loss: 8.4941 - mae: 8.4941\n",
            "Epoch 11/50\n",
            "1/1 [==============================] - 0s 13ms/step - loss: 8.0782 - mae: 8.0782\n",
            "Epoch 12/50\n",
            "1/1 [==============================] - 0s 14ms/step - loss: 7.7414 - mae: 7.7414\n",
            "Epoch 13/50\n",
            "1/1 [==============================] - 0s 13ms/step - loss: 7.3522 - mae: 7.3522\n",
            "Epoch 14/50\n",
            "1/1 [==============================] - 0s 14ms/step - loss: 7.1511 - mae: 7.1511\n",
            "Epoch 15/50\n",
            "1/1 [==============================] - 0s 12ms/step - loss: 7.2201 - mae: 7.2201\n",
            "Epoch 16/50\n",
            "1/1 [==============================] - 0s 14ms/step - loss: 7.4389 - mae: 7.4389\n",
            "Epoch 17/50\n",
            "1/1 [==============================] - 0s 10ms/step - loss: 7.4866 - mae: 7.4866\n",
            "Epoch 18/50\n",
            "1/1 [==============================] - 0s 11ms/step - loss: 7.3938 - mae: 7.3938\n",
            "Epoch 19/50\n",
            "1/1 [==============================] - 0s 12ms/step - loss: 7.1807 - mae: 7.1807\n",
            "Epoch 20/50\n",
            "1/1 [==============================] - 0s 19ms/step - loss: 6.9920 - mae: 6.9920\n",
            "Epoch 21/50\n",
            "1/1 [==============================] - 0s 16ms/step - loss: 6.9535 - mae: 6.9535\n",
            "Epoch 22/50\n",
            "1/1 [==============================] - 0s 13ms/step - loss: 6.9251 - mae: 6.9251\n",
            "Epoch 23/50\n",
            "1/1 [==============================] - 0s 12ms/step - loss: 6.9920 - mae: 6.9920\n",
            "Epoch 24/50\n",
            "1/1 [==============================] - 0s 13ms/step - loss: 6.9769 - mae: 6.9769\n",
            "Epoch 25/50\n",
            "1/1 [==============================] - 0s 12ms/step - loss: 6.8898 - mae: 6.8898\n",
            "Epoch 26/50\n",
            "1/1 [==============================] - 0s 13ms/step - loss: 6.8010 - mae: 6.8010\n",
            "Epoch 27/50\n",
            "1/1 [==============================] - 0s 12ms/step - loss: 6.7778 - mae: 6.7778\n",
            "Epoch 28/50\n",
            "1/1 [==============================] - 0s 11ms/step - loss: 6.7534 - mae: 6.7534\n",
            "Epoch 29/50\n",
            "1/1 [==============================] - 0s 11ms/step - loss: 6.7279 - mae: 6.7279\n",
            "Epoch 30/50\n",
            "1/1 [==============================] - 0s 11ms/step - loss: 6.7012 - mae: 6.7012\n",
            "Epoch 31/50\n",
            "1/1 [==============================] - 0s 11ms/step - loss: 6.6734 - mae: 6.6734\n",
            "Epoch 32/50\n",
            "1/1 [==============================] - 0s 12ms/step - loss: 6.6741 - mae: 6.6741\n",
            "Epoch 33/50\n",
            "1/1 [==============================] - 0s 12ms/step - loss: 6.6066 - mae: 6.6066\n",
            "Epoch 34/50\n",
            "1/1 [==============================] - 0s 12ms/step - loss: 6.5678 - mae: 6.5678\n",
            "Epoch 35/50\n",
            "1/1 [==============================] - 0s 11ms/step - loss: 6.5279 - mae: 6.5279\n",
            "Epoch 36/50\n",
            "1/1 [==============================] - 0s 10ms/step - loss: 6.4867 - mae: 6.4867\n",
            "Epoch 37/50\n",
            "1/1 [==============================] - 0s 14ms/step - loss: 6.4441 - mae: 6.4441\n",
            "Epoch 38/50\n",
            "1/1 [==============================] - 0s 14ms/step - loss: 6.3999 - mae: 6.3999\n",
            "Epoch 39/50\n",
            "1/1 [==============================] - 0s 12ms/step - loss: 6.3541 - mae: 6.3541\n",
            "Epoch 40/50\n",
            "1/1 [==============================] - 0s 12ms/step - loss: 6.3646 - mae: 6.3646\n",
            "Epoch 41/50\n",
            "1/1 [==============================] - 0s 11ms/step - loss: 6.3119 - mae: 6.3119\n",
            "Epoch 42/50\n",
            "1/1 [==============================] - 0s 11ms/step - loss: 6.2333 - mae: 6.2333\n",
            "Epoch 43/50\n",
            "1/1 [==============================] - 0s 12ms/step - loss: 6.1974 - mae: 6.1974\n",
            "Epoch 44/50\n",
            "1/1 [==============================] - 0s 12ms/step - loss: 6.1586 - mae: 6.1586\n",
            "Epoch 45/50\n",
            "1/1 [==============================] - 0s 13ms/step - loss: 6.1167 - mae: 6.1167\n",
            "Epoch 46/50\n",
            "1/1 [==============================] - 0s 13ms/step - loss: 6.0717 - mae: 6.0717\n",
            "Epoch 47/50\n",
            "1/1 [==============================] - 0s 13ms/step - loss: 6.0234 - mae: 6.0234\n",
            "Epoch 48/50\n",
            "1/1 [==============================] - 0s 13ms/step - loss: 5.9716 - mae: 5.9716\n",
            "Epoch 49/50\n",
            "1/1 [==============================] - 0s 12ms/step - loss: 5.9162 - mae: 5.9162\n",
            "Epoch 50/50\n",
            "1/1 [==============================] - 0s 10ms/step - loss: 5.8569 - mae: 5.8569\n"
          ]
        },
        {
          "output_type": "execute_result",
          "data": {
            "text/plain": [
              "<keras.callbacks.History at 0x7a44b67ba5f0>"
            ]
          },
          "metadata": {},
          "execution_count": 68
        }
      ]
    },
    {
      "cell_type": "code",
      "source": [
        "model.predict([17.0])"
      ],
      "metadata": {
        "colab": {
          "base_uri": "https://localhost:8080/"
        },
        "id": "CRZF-6UffTbt",
        "outputId": "1257d1bf-2303-4da6-bec8-ac6f56af9375"
      },
      "execution_count": 69,
      "outputs": [
        {
          "output_type": "stream",
          "name": "stdout",
          "text": [
            "1/1 [==============================] - 0s 87ms/step\n"
          ]
        },
        {
          "output_type": "execute_result",
          "data": {
            "text/plain": [
              "array([[29.74184]], dtype=float32)"
            ]
          },
          "metadata": {},
          "execution_count": 69
        }
      ]
    },
    {
      "cell_type": "code",
      "source": [],
      "metadata": {
        "id": "ygppZQWaZB8F"
      },
      "execution_count": null,
      "outputs": []
    }
  ]
}